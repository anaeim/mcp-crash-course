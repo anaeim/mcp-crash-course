{
 "cells": [
  {
   "cell_type": "markdown",
   "id": "4f93b445",
   "metadata": {},
   "source": [
    "here is this notebook, you learn how to write a local mcp server.<br>\n",
    "[documentation](https://modelcontextprotocol.io/quickstart/server)<br>\n",
    "[github](https://github.com/modelcontextprotocol/quickstart-resources/tree/main/weather-server-python)"
   ]
  },
  {
   "cell_type": "markdown",
   "id": "a1f34363",
   "metadata": {},
   "source": [
    "steps:\n",
    "- Initalize venv and install dependencies\n",
    "- Building your server with FastMCP\n",
    "- write helper functions\n",
    "- Implementing tool execution: exposing tools to MCP server"
   ]
  },
  {
   "cell_type": "markdown",
   "id": "922233a4",
   "metadata": {},
   "source": [
    "### Initalize venv and install dependencies\n",
    "\n",
    "```bash\n",
    "# Create a new directory for our project\n",
    "uv init weather\n",
    "cd weather\n",
    "\n",
    "# Create virtual environment and activate it\n",
    "uv venv\n",
    "source .venv/bin/activate\n",
    "\n",
    "# Install dependencies\n",
    "uv add \"mcp[cli]\" httpx\n",
    "\n",
    "# Create our server file\n",
    "touch weather.py\n",
    "```"
   ]
  },
  {
   "cell_type": "markdown",
   "id": "9fa5018e",
   "metadata": {},
   "source": [
    "### Building your server with FastMCP\n",
    "\n",
    "```python\n",
    "from typing import Any\n",
    "import httpx\n",
    "from mcp.server.fastmcp import FastMCP\n",
    "\n",
    "# Initialize FastMCP server\n",
    "mcp = FastMCP(\"weather\")\n",
    "\n",
    "# Constants\n",
    "NWS_API_BASE = \"https://api.weather.gov\"\n",
    "USER_AGENT = \"weather-app/1.0\"\n",
    "```"
   ]
  },
  {
   "cell_type": "markdown",
   "id": "e624daa5",
   "metadata": {},
   "source": [
    "**Q** what is `mcp = FastMCP(\"weather\")`?<br>\n",
    "A. FastMCP likely refers to a FastAPI-based implementation of a server for Model Context Protocol (MCP). it creates a local MCP server.\n"
   ]
  },
  {
   "cell_type": "markdown",
   "id": "5dbf731d",
   "metadata": {},
   "source": [
    "### Implementing tool execution: \n",
    "exposing tools to MCP server<br>\n",
    "you expose new tools and add new capabilites to your mcp server.\n",
    "\n",
    "**Q**. how to implement tools?<br>\n",
    "A. \n",
    "- by adding `@mcp.tool()` decorator to the functions\n",
    "- by writing good docstrings. docstrings let llm know what this tool can do (tool usage), what is input and output for this tool.\n",
    "\n",
    "\n",
    "example of mcp tool:\n",
    "```python\n",
    "@mcp.tool()\n",
    "async def get_alerts(state: str) -> str:\n",
    "    \"\"\"Get weather alerts for a US state.\n",
    "\n",
    "    Args:\n",
    "        state: Two-letter US state code (e.g. CA, NY)\n",
    "    \"\"\"\n",
    "    url = f\"{NWS_API_BASE}/alerts/active/area/{state}\"\n",
    "    data = await make_nws_request(url)\n",
    "\n",
    "    if not data or \"features\" not in data:\n",
    "        return \"Unable to fetch alerts or no alerts found.\"\n",
    "\n",
    "    if not data[\"features\"]:\n",
    "        return \"No active alerts for this state.\"\n",
    "\n",
    "    alerts = [format_alert(feature) for feature in data[\"features\"]]\n",
    "    return \"\\n---\\n\".join(alerts)\n",
    "```"
   ]
  },
  {
   "cell_type": "markdown",
   "id": "98e8bf0f",
   "metadata": {},
   "source": [
    "\n",
    "**Q.** what is decorator? <br>\n",
    "A. In Python, a decorator is a special function that modifies the behavior of another function or method without changing its source code.\n",
    "\n",
    "example:"
   ]
  },
  {
   "cell_type": "code",
   "execution_count": 2,
   "id": "53324344",
   "metadata": {},
   "outputs": [
    {
     "name": "stdout",
     "output_type": "stream",
     "text": [
      "Wrapper executed before say_hello\n",
      "Hello!\n",
      "Wrapper executed after say_hello\n"
     ]
    }
   ],
   "source": [
    "def decorator_function(func):\n",
    "    def wrapper_function(*args, **kwargs):\n",
    "        # Code before calling the original function\n",
    "        print(f\"Wrapper executed before {func.__name__}\")\n",
    "        result = func(*args, **kwargs)\n",
    "        # Code after calling the original function\n",
    "        print(f\"Wrapper executed after {func.__name__}\")\n",
    "        return result\n",
    "    return wrapper_function\n",
    "\n",
    "\n",
    "@decorator_function\n",
    "def say_hello():\n",
    "    print(\"Hello!\")\n",
    "\n",
    "say_hello()"
   ]
  },
  {
   "cell_type": "markdown",
   "id": "96695e30",
   "metadata": {},
   "source": [
    "**Q**. how to run the server? <br>\n",
    "A. here I add it to claude desktop and edit `claude_desktop_config.json` to introduce my mcp server:\n",
    "\n",
    "```python\n",
    "{\n",
    "  \"mcpServers\": {\n",
    "    \"weather\": {\n",
    "      \"command\": \"uv\",\n",
    "      \"args\": [\n",
    "        \"--directory\",\n",
    "        \"/ABSOLUTE/PATH/TO/PARENT/FOLDER/weather\",\n",
    "        \"run\",\n",
    "        \"weather.py\"\n",
    "      ]\n",
    "    }\n",
    "  }\n",
    "}\n",
    "```"
   ]
  }
 ],
 "metadata": {
  "kernelspec": {
   "display_name": "farzanehlang",
   "language": "python",
   "name": "python3"
  },
  "language_info": {
   "codemirror_mode": {
    "name": "ipython",
    "version": 3
   },
   "file_extension": ".py",
   "mimetype": "text/x-python",
   "name": "python",
   "nbconvert_exporter": "python",
   "pygments_lexer": "ipython3",
   "version": "3.10.18"
  }
 },
 "nbformat": 4,
 "nbformat_minor": 5
}
