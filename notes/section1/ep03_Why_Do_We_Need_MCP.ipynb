{
 "cells": [
  {
   "cell_type": "markdown",
   "id": "c5651be8",
   "metadata": {},
   "source": [
    "### Q. Why Do We Need MCP? Solving the AI Agent Integration Problem\n",
    "To solve the AI Agent Integration Problem"
   ]
  },
  {
   "cell_type": "markdown",
   "id": "9600242c",
   "metadata": {},
   "source": [
    "MCP supposed to standardize how applications provide context/resources to llms.<br>\n",
    "the context can be additional information to the prompt. A context can be maybe which tool to invoke. And a context can even be the prompt itself."
   ]
  },
  {
   "cell_type": "markdown",
   "id": "b0f32355",
   "metadata": {},
   "source": [
    "more generally MCP servers can provide three main types of capabilities:\n",
    "\n",
    "- Resources: File-like data that can be read by clients (like API responses or file contents)\n",
    "- Tools: Functions that can be called by the LLM (with user approval)\n",
    "- Prompts: Pre-written templates that help users accomplish specific tasks"
   ]
  },
  {
   "cell_type": "markdown",
   "id": "11578ec8",
   "metadata": {},
   "source": [
    "And the idea here is that we are going to integrate only once into our MCP server. And because all the other agents support MCP, the model Context protocol, then they will be able to easily connect to our MCP server, and in fact, we'll only need to implement our agent once with compatibility to the MCP server.\n",
    "\n",
    "then we can migrate to all those other agents to MCP server.<br>\n",
    "So, everyone who supports the MCP protocol can use our agent and we can integrate it seamlessly.\n",
    "\n",
    "because so many people are using it right now, and there are tons of MCP servers out there. And really the possibilities are endless.\n"
   ]
  },
  {
   "cell_type": "markdown",
   "id": "6e806e24",
   "metadata": {},
   "source": [
    "the cool thing is that we can implement an MCP server to any logic we want. And effectively we're now giving our agents, our AI agents, the capability to do everything, so we're not bounded by any implementation. All we need to do is to implement the MCP protocol and all the client that support MCP is going to be able to run those functionality."
   ]
  }
 ],
 "metadata": {
  "kernelspec": {
   "display_name": "farzanehlang",
   "language": "python",
   "name": "python3"
  },
  "language_info": {
   "name": "python",
   "version": "3.10.18"
  }
 },
 "nbformat": 4,
 "nbformat_minor": 5
}
